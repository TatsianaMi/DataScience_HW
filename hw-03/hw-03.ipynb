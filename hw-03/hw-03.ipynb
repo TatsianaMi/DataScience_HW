{
 "cells": [
  {
   "cell_type": "code",
   "execution_count": null,
   "id": "61cc101a-d2fd-4042-a8cf-82ff4b153423",
   "metadata": {},
   "outputs": [],
   "source": [
    "!pip install ipython-sql\n",
    "!pip install sqlite3"
   ]
  },
  {
   "cell_type": "code",
   "execution_count": 3,
   "id": "169844f3-23ec-443b-b02e-e568e82ca0c7",
   "metadata": {},
   "outputs": [
    {
     "name": "stderr",
     "output_type": "stream",
     "text": [
      "INFO:fetch_data:Fetching file by url on 2025-02-15 Time 21:07:24+00:00 UTC\n"
     ]
    },
    {
     "data": {
      "text/html": [
       "<div>\n",
       "<style scoped>\n",
       "    .dataframe tbody tr th:only-of-type {\n",
       "        vertical-align: middle;\n",
       "    }\n",
       "\n",
       "    .dataframe tbody tr th {\n",
       "        vertical-align: top;\n",
       "    }\n",
       "\n",
       "    .dataframe thead th {\n",
       "        text-align: right;\n",
       "    }\n",
       "</style>\n",
       "<table border=\"1\" class=\"dataframe\">\n",
       "  <thead>\n",
       "    <tr style=\"text-align: right;\">\n",
       "      <th></th>\n",
       "      <th>kjønn</th>\n",
       "      <th>utdanning</th>\n",
       "      <th>erfaring</th>\n",
       "      <th>arbeidssted</th>\n",
       "      <th>arbeidssituasjon</th>\n",
       "      <th>fag</th>\n",
       "      <th>lønn</th>\n",
       "      <th>bonus?</th>\n",
       "    </tr>\n",
       "  </thead>\n",
       "  <tbody>\n",
       "    <tr>\n",
       "      <th>0</th>\n",
       "      <td>mann</td>\n",
       "      <td>4</td>\n",
       "      <td>7</td>\n",
       "      <td>Agder</td>\n",
       "      <td>in-house, privat sektor</td>\n",
       "      <td>AI / maskinlæring</td>\n",
       "      <td>865000</td>\n",
       "      <td>Nei</td>\n",
       "    </tr>\n",
       "    <tr>\n",
       "      <th>1</th>\n",
       "      <td>mann</td>\n",
       "      <td>5</td>\n",
       "      <td>2</td>\n",
       "      <td>Nordland</td>\n",
       "      <td>in-house, offentlig/kommunal sektor</td>\n",
       "      <td>AI / maskinlæring</td>\n",
       "      <td>756000</td>\n",
       "      <td>Nei</td>\n",
       "    </tr>\n",
       "    <tr>\n",
       "      <th>2</th>\n",
       "      <td>mann</td>\n",
       "      <td>4</td>\n",
       "      <td>30</td>\n",
       "      <td>Oslo</td>\n",
       "      <td>konsulent</td>\n",
       "      <td>AI / maskinlæring</td>\n",
       "      <td>1500000</td>\n",
       "      <td>Nei</td>\n",
       "    </tr>\n",
       "  </tbody>\n",
       "</table>\n",
       "</div>"
      ],
      "text/plain": [
       "  kjønn  utdanning  erfaring arbeidssted                     arbeidssituasjon  \\\n",
       "0  mann          4         7       Agder              in-house, privat sektor   \n",
       "1  mann          5         2    Nordland  in-house, offentlig/kommunal sektor   \n",
       "2  mann          4        30        Oslo                            konsulent   \n",
       "\n",
       "                 fag     lønn bonus?  \n",
       "0  AI / maskinlæring   865000    Nei  \n",
       "1  AI / maskinlæring   756000    Nei  \n",
       "2  AI / maskinlæring  1500000    Nei  "
      ]
     },
     "execution_count": 3,
     "metadata": {},
     "output_type": "execute_result"
    }
   ],
   "source": [
    "import fetch_data\n",
    "df = fetch_data.fromCSV()\n",
    "df.head(3)"
   ]
  },
  {
   "cell_type": "code",
   "execution_count": 4,
   "id": "a522b26e-7656-40ac-9033-9ace051fc3cc",
   "metadata": {},
   "outputs": [
    {
     "data": {
      "text/html": [
       "<div>\n",
       "<style scoped>\n",
       "    .dataframe tbody tr th:only-of-type {\n",
       "        vertical-align: middle;\n",
       "    }\n",
       "\n",
       "    .dataframe tbody tr th {\n",
       "        vertical-align: top;\n",
       "    }\n",
       "\n",
       "    .dataframe thead th {\n",
       "        text-align: right;\n",
       "    }\n",
       "</style>\n",
       "<table border=\"1\" class=\"dataframe\">\n",
       "  <thead>\n",
       "    <tr style=\"text-align: right;\">\n",
       "      <th></th>\n",
       "      <th>sex</th>\n",
       "      <th>education</th>\n",
       "      <th>experience</th>\n",
       "      <th>workplace</th>\n",
       "      <th>work_situation</th>\n",
       "      <th>subject</th>\n",
       "      <th>salary</th>\n",
       "      <th>bonus?</th>\n",
       "    </tr>\n",
       "  </thead>\n",
       "  <tbody>\n",
       "    <tr>\n",
       "      <th>0</th>\n",
       "      <td>mann</td>\n",
       "      <td>4</td>\n",
       "      <td>7</td>\n",
       "      <td>Agder</td>\n",
       "      <td>in-house, privat sektor</td>\n",
       "      <td>AI / maskinlæring</td>\n",
       "      <td>865000</td>\n",
       "      <td>Nei</td>\n",
       "    </tr>\n",
       "    <tr>\n",
       "      <th>1</th>\n",
       "      <td>mann</td>\n",
       "      <td>5</td>\n",
       "      <td>2</td>\n",
       "      <td>Nordland</td>\n",
       "      <td>in-house, offentlig/kommunal sektor</td>\n",
       "      <td>AI / maskinlæring</td>\n",
       "      <td>756000</td>\n",
       "      <td>Nei</td>\n",
       "    </tr>\n",
       "    <tr>\n",
       "      <th>2</th>\n",
       "      <td>mann</td>\n",
       "      <td>4</td>\n",
       "      <td>30</td>\n",
       "      <td>Oslo</td>\n",
       "      <td>konsulent</td>\n",
       "      <td>AI / maskinlæring</td>\n",
       "      <td>1500000</td>\n",
       "      <td>Nei</td>\n",
       "    </tr>\n",
       "  </tbody>\n",
       "</table>\n",
       "</div>"
      ],
      "text/plain": [
       "    sex  education  experience workplace                       work_situation  \\\n",
       "0  mann          4           7     Agder              in-house, privat sektor   \n",
       "1  mann          5           2  Nordland  in-house, offentlig/kommunal sektor   \n",
       "2  mann          4          30      Oslo                            konsulent   \n",
       "\n",
       "             subject   salary bonus?  \n",
       "0  AI / maskinlæring   865000    Nei  \n",
       "1  AI / maskinlæring   756000    Nei  \n",
       "2  AI / maskinlæring  1500000    Nei  "
      ]
     },
     "execution_count": 4,
     "metadata": {},
     "output_type": "execute_result"
    }
   ],
   "source": [
    "#переименовываем колонки, т.к. имена колонок на норвежском\n",
    "df = df.rename(columns = {'kjønn':'sex',\n",
    "                          'utdanning':'education',\n",
    "                          'erfaring':'experience',\n",
    "                          'arbeidssted':'workplace',\n",
    "                          'arbeidssituasjon':'work_situation',\n",
    "                          'fag':'subject',\n",
    "                          'lønn':'salary'\n",
    "                         })\n",
    "df.head(3)"
   ]
  },
  {
   "cell_type": "code",
   "execution_count": 5,
   "id": "8a4e85c9-61a8-4bac-a43a-34c55e4f069c",
   "metadata": {},
   "outputs": [],
   "source": [
    "import sqlite3\n",
    "data_base_name = 'hw_03_data_base.db'\n",
    "con = sqlite3.connect(data_base_name)"
   ]
  },
  {
   "cell_type": "code",
   "execution_count": 6,
   "id": "a1edc9e4-7b70-47a8-9c1b-bfc4a00d965d",
   "metadata": {},
   "outputs": [
    {
     "data": {
      "text/plain": [
       "2682"
      ]
     },
     "execution_count": 6,
     "metadata": {},
     "output_type": "execute_result"
    }
   ],
   "source": [
    "table_name = 'data'\n",
    "df.to_sql(table_name, con=con, if_exists='replace')"
   ]
  },
  {
   "cell_type": "code",
   "execution_count": 8,
   "id": "a5fa6505-ea82-461b-9fde-f238bc431b82",
   "metadata": {},
   "outputs": [
    {
     "name": "stdout",
     "output_type": "stream",
     "text": [
      "LIMIT by SQL\n",
      "(0, 'mann', 4, 7, 'Agder', 'in-house, privat sektor', 'AI / maskinlæring', 865000, 'Nei')\n",
      "(1, 'mann', 5, 2, 'Nordland', 'in-house, offentlig/kommunal sektor', 'AI / maskinlæring', 756000, 'Nei')\n",
      "(2, 'mann', 4, 30, 'Oslo', 'konsulent', 'AI / maskinlæring', 1500000, 'Nei')\n",
      "===============\n",
      "LIMIT by Python - bad\n",
      "(0, 'mann', 4, 7, 'Agder', 'in-house, privat sektor', 'AI / maskinlæring', 865000, 'Nei')\n",
      "(1, 'mann', 5, 2, 'Nordland', 'in-house, offentlig/kommunal sektor', 'AI / maskinlæring', 756000, 'Nei')\n",
      "(2, 'mann', 4, 30, 'Oslo', 'konsulent', 'AI / maskinlæring', 1500000, 'Nei')\n"
     ]
    }
   ],
   "source": [
    "cur = con.cursor()\n",
    "print(\"LIMIT by SQL\")\n",
    "for row in cur.execute(f\"SELECT * FROM {table_name} LIMIT 3\"):\n",
    "    print(row)\n",
    "\n",
    "\n",
    "print(\"===============\")\n",
    "print(\"LIMIT by Python - bad\")\n",
    "i=0\n",
    "print_rows_count = 3\n",
    "for row in cur.execute(f\"SELECT * FROM {table_name}\"):\n",
    "    print(row)\n",
    "    i+=1\n",
    "    if i==print_rows_count or i>print_rows_count :\n",
    "        break;"
   ]
  },
  {
   "cell_type": "code",
   "execution_count": 9,
   "id": "b905dddb-4582-49ad-89f7-19e62e94988f",
   "metadata": {},
   "outputs": [
    {
     "data": {
      "text/plain": [
       "[('annet / ønsker ikke oppgi', 'Innlandet', 2),\n",
       " ('annet / ønsker ikke oppgi', 'Nordland', 1),\n",
       " ('annet / ønsker ikke oppgi', 'Oslo', 12),\n",
       " ('annet / ønsker ikke oppgi', 'Rogaland', 1),\n",
       " ('annet / ønsker ikke oppgi', 'Vestland', 2),\n",
       " ('annet / ønsker ikke oppgi', 'Viken', 1),\n",
       " ('kvinne', 'Agder', 6),\n",
       " ('kvinne', 'Innlandet', 6),\n",
       " ('kvinne', 'Møre og Romsdal', 4),\n",
       " ('kvinne', 'Nordland', 4),\n",
       " ('kvinne', 'Oslo', 250),\n",
       " ('kvinne', 'Rogaland', 17),\n",
       " ('kvinne', 'Troms og Finnmark', 4),\n",
       " ('kvinne', 'Trøndelag', 21),\n",
       " ('kvinne', 'Vestfold og Telemark', 11),\n",
       " ('kvinne', 'Vestland', 25),\n",
       " ('kvinne', 'Viken', 17),\n",
       " ('kvinne', 'utlandet', 3),\n",
       " ('mann', 'Agder', 88),\n",
       " ('mann', 'Innlandet', 58),\n",
       " ('mann', 'Møre og Romsdal', 43),\n",
       " ('mann', 'Nordland', 40),\n",
       " ('mann', 'Oslo', 1215),\n",
       " ('mann', 'Rogaland', 144),\n",
       " ('mann', 'Troms og Finnmark', 32),\n",
       " ('mann', 'Trøndelag', 175),\n",
       " ('mann', 'Vestfold og Telemark', 100),\n",
       " ('mann', 'Vestland', 231),\n",
       " ('mann', 'Viken', 144),\n",
       " ('mann', 'utlandet', 25)]"
      ]
     },
     "execution_count": 9,
     "metadata": {},
     "output_type": "execute_result"
    }
   ],
   "source": [
    "#посчитаем количество людей в БД с разбивкой по полу и месту работы \n",
    "res = cur.execute(f\"\"\"\n",
    "            SELECT sex,\n",
    "            workplace,\n",
    "            COUNT(sex)\n",
    "            FROM {table_name}\n",
    "            GROUP BY sex, workplace\n",
    "        \"\"\")\n",
    "res.fetchall()"
   ]
  },
  {
   "cell_type": "code",
   "execution_count": 10,
   "id": "3c391935-dbf0-478e-bdcf-bc0cfb6d2fc2",
   "metadata": {},
   "outputs": [
    {
     "data": {
      "text/html": [
       "<div>\n",
       "<style scoped>\n",
       "    .dataframe tbody tr th:only-of-type {\n",
       "        vertical-align: middle;\n",
       "    }\n",
       "\n",
       "    .dataframe tbody tr th {\n",
       "        vertical-align: top;\n",
       "    }\n",
       "\n",
       "    .dataframe thead th {\n",
       "        text-align: right;\n",
       "    }\n",
       "</style>\n",
       "<table border=\"1\" class=\"dataframe\">\n",
       "  <thead>\n",
       "    <tr style=\"text-align: right;\">\n",
       "      <th></th>\n",
       "      <th>Sex</th>\n",
       "      <th>Place</th>\n",
       "      <th>Count</th>\n",
       "    </tr>\n",
       "  </thead>\n",
       "  <tbody>\n",
       "    <tr>\n",
       "      <th>0</th>\n",
       "      <td>annet / ønsker ikke oppgi</td>\n",
       "      <td>Innlandet</td>\n",
       "      <td>2</td>\n",
       "    </tr>\n",
       "    <tr>\n",
       "      <th>1</th>\n",
       "      <td>annet / ønsker ikke oppgi</td>\n",
       "      <td>Nordland</td>\n",
       "      <td>1</td>\n",
       "    </tr>\n",
       "    <tr>\n",
       "      <th>2</th>\n",
       "      <td>annet / ønsker ikke oppgi</td>\n",
       "      <td>Oslo</td>\n",
       "      <td>12</td>\n",
       "    </tr>\n",
       "    <tr>\n",
       "      <th>3</th>\n",
       "      <td>annet / ønsker ikke oppgi</td>\n",
       "      <td>Rogaland</td>\n",
       "      <td>1</td>\n",
       "    </tr>\n",
       "    <tr>\n",
       "      <th>4</th>\n",
       "      <td>annet / ønsker ikke oppgi</td>\n",
       "      <td>Vestland</td>\n",
       "      <td>2</td>\n",
       "    </tr>\n",
       "  </tbody>\n",
       "</table>\n",
       "</div>"
      ],
      "text/plain": [
       "                         Sex      Place  Count\n",
       "0  annet / ønsker ikke oppgi  Innlandet      2\n",
       "1  annet / ønsker ikke oppgi   Nordland      1\n",
       "2  annet / ønsker ikke oppgi       Oslo     12\n",
       "3  annet / ønsker ikke oppgi   Rogaland      1\n",
       "4  annet / ønsker ikke oppgi   Vestland      2"
      ]
     },
     "execution_count": 10,
     "metadata": {},
     "output_type": "execute_result"
    }
   ],
   "source": [
    "#загружаем в DataFrame результат выполнения запроса к БД. Колонке в результате запроса будут с другими именами\n",
    "import pandas as pd\n",
    "df = pd.read_sql_query(f\"\"\"\n",
    "            SELECT sex as 'Sex',\n",
    "            workplace as 'Place',\n",
    "            COUNT(sex) as 'Count'\n",
    "            FROM {table_name} \n",
    "            GROUP BY sex, workplace\n",
    "        \"\"\", con)\n",
    "df.head(5)"
   ]
  },
  {
   "cell_type": "code",
   "execution_count": 11,
   "id": "0f489cc9-26a0-4d95-969a-abdbe74e5e9b",
   "metadata": {},
   "outputs": [],
   "source": [
    "#в БД меняем значения в колонке sex с норвежского на английский\n",
    "def update_text_in_column(cur:sqlite3.Cursor,\n",
    "                          table_name: str,\n",
    "                          column_name: str,\n",
    "                          current_value: str,\n",
    "                          new_value: str):\n",
    "    res = cur.execute(f\"\"\"\n",
    "            UPDATE {table_name}\n",
    "            SET {column_name} = '{new_value}'\n",
    "            WHERE {column_name} = '{current_value}'\n",
    "        \"\"\")\n",
    "    res.fetchall()\n",
    "    None\n",
    "\n",
    "update_text_in_column(cur, table_name, 'sex', 'mann', 'male' )\n",
    "update_text_in_column(cur, table_name, 'sex', 'kvinne', 'female' )\n",
    "update_text_in_column(cur, table_name, 'sex', 'annet / ønsker ikke oppgi', 'other / do not wish to state' )"
   ]
  },
  {
   "cell_type": "code",
   "execution_count": 12,
   "id": "90c0555e-eec6-4098-9a40-08897a4a4978",
   "metadata": {},
   "outputs": [
    {
     "data": {
      "text/plain": [
       "[('female', 'Agder', 6),\n",
       " ('female', 'Innlandet', 6),\n",
       " ('female', 'Møre og Romsdal', 4),\n",
       " ('female', 'Nordland', 4),\n",
       " ('female', 'Oslo', 250),\n",
       " ('female', 'Rogaland', 17),\n",
       " ('female', 'Troms og Finnmark', 4),\n",
       " ('female', 'Trøndelag', 21),\n",
       " ('female', 'Vestfold og Telemark', 11),\n",
       " ('female', 'Vestland', 25),\n",
       " ('female', 'Viken', 17),\n",
       " ('female', 'utlandet', 3),\n",
       " ('male', 'Agder', 88),\n",
       " ('male', 'Innlandet', 58),\n",
       " ('male', 'Møre og Romsdal', 43),\n",
       " ('male', 'Nordland', 40),\n",
       " ('male', 'Oslo', 1215),\n",
       " ('male', 'Rogaland', 144),\n",
       " ('male', 'Troms og Finnmark', 32),\n",
       " ('male', 'Trøndelag', 175),\n",
       " ('male', 'Vestfold og Telemark', 100),\n",
       " ('male', 'Vestland', 231),\n",
       " ('male', 'Viken', 144),\n",
       " ('male', 'utlandet', 25),\n",
       " ('other / do not wish to state', 'Innlandet', 2),\n",
       " ('other / do not wish to state', 'Nordland', 1),\n",
       " ('other / do not wish to state', 'Oslo', 12),\n",
       " ('other / do not wish to state', 'Rogaland', 1),\n",
       " ('other / do not wish to state', 'Vestland', 2),\n",
       " ('other / do not wish to state', 'Viken', 1)]"
      ]
     },
     "execution_count": 12,
     "metadata": {},
     "output_type": "execute_result"
    }
   ],
   "source": [
    "#посчитаем количество людей в БД с разбивкой по полу и месту работы \n",
    "res = cur.execute(f\"\"\"\n",
    "            SELECT sex,\n",
    "            workplace,\n",
    "            COUNT(sex)\n",
    "            FROM {table_name}\n",
    "            GROUP BY sex, workplace\n",
    "        \"\"\")\n",
    "res.fetchall()"
   ]
  },
  {
   "cell_type": "code",
   "execution_count": 17,
   "id": "8763079c-5d0f-4cf2-821d-6a7d23a803d0",
   "metadata": {},
   "outputs": [],
   "source": [
    "con.close()"
   ]
  },
  {
   "cell_type": "code",
   "execution_count": null,
   "id": "87b1afe6-f45a-4720-8c2a-719d876b537d",
   "metadata": {},
   "outputs": [],
   "source": []
  }
 ],
 "metadata": {
  "kernelspec": {
   "display_name": "Python 3 (ipykernel)",
   "language": "python",
   "name": "python3"
  },
  "language_info": {
   "codemirror_mode": {
    "name": "ipython",
    "version": 3
   },
   "file_extension": ".py",
   "mimetype": "text/x-python",
   "name": "python",
   "nbconvert_exporter": "python",
   "pygments_lexer": "ipython3",
   "version": "3.10.11"
  }
 },
 "nbformat": 4,
 "nbformat_minor": 5
}
