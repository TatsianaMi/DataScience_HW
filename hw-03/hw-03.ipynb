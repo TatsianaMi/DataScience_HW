{
 "cells": [
  {
   "cell_type": "code",
   "execution_count": null,
   "id": "61cc101a-d2fd-4042-a8cf-82ff4b153423",
   "metadata": {},
   "outputs": [],
   "source": [
    "!pip install ipython-sql\n",
    "!pip install SQLAlchemy\n",
    "!pip install sqlite3"
   ]
  },
  {
   "cell_type": "code",
   "execution_count": 9,
   "id": "169844f3-23ec-443b-b02e-e568e82ca0c7",
   "metadata": {},
   "outputs": [
    {
     "name": "stderr",
     "output_type": "stream",
     "text": [
      "INFO:fetch_data:Fetching file by url on 2025-02-15 Time 20:02:37+00:00 UTC\n"
     ]
    },
    {
     "data": {
      "text/html": [
       "<div>\n",
       "<style scoped>\n",
       "    .dataframe tbody tr th:only-of-type {\n",
       "        vertical-align: middle;\n",
       "    }\n",
       "\n",
       "    .dataframe tbody tr th {\n",
       "        vertical-align: top;\n",
       "    }\n",
       "\n",
       "    .dataframe thead th {\n",
       "        text-align: right;\n",
       "    }\n",
       "</style>\n",
       "<table border=\"1\" class=\"dataframe\">\n",
       "  <thead>\n",
       "    <tr style=\"text-align: right;\">\n",
       "      <th></th>\n",
       "      <th>kjønn</th>\n",
       "      <th>utdanning</th>\n",
       "      <th>erfaring</th>\n",
       "      <th>arbeidssted</th>\n",
       "      <th>arbeidssituasjon</th>\n",
       "      <th>fag</th>\n",
       "      <th>lønn</th>\n",
       "      <th>bonus?</th>\n",
       "    </tr>\n",
       "  </thead>\n",
       "  <tbody>\n",
       "    <tr>\n",
       "      <th>0</th>\n",
       "      <td>mann</td>\n",
       "      <td>4</td>\n",
       "      <td>7</td>\n",
       "      <td>Agder</td>\n",
       "      <td>in-house, privat sektor</td>\n",
       "      <td>AI / maskinlæring</td>\n",
       "      <td>865000</td>\n",
       "      <td>Nei</td>\n",
       "    </tr>\n",
       "    <tr>\n",
       "      <th>1</th>\n",
       "      <td>mann</td>\n",
       "      <td>5</td>\n",
       "      <td>2</td>\n",
       "      <td>Nordland</td>\n",
       "      <td>in-house, offentlig/kommunal sektor</td>\n",
       "      <td>AI / maskinlæring</td>\n",
       "      <td>756000</td>\n",
       "      <td>Nei</td>\n",
       "    </tr>\n",
       "    <tr>\n",
       "      <th>2</th>\n",
       "      <td>mann</td>\n",
       "      <td>4</td>\n",
       "      <td>30</td>\n",
       "      <td>Oslo</td>\n",
       "      <td>konsulent</td>\n",
       "      <td>AI / maskinlæring</td>\n",
       "      <td>1500000</td>\n",
       "      <td>Nei</td>\n",
       "    </tr>\n",
       "  </tbody>\n",
       "</table>\n",
       "</div>"
      ],
      "text/plain": [
       "  kjønn  utdanning  erfaring arbeidssted                     arbeidssituasjon  \\\n",
       "0  mann          4         7       Agder              in-house, privat sektor   \n",
       "1  mann          5         2    Nordland  in-house, offentlig/kommunal sektor   \n",
       "2  mann          4        30        Oslo                            konsulent   \n",
       "\n",
       "                 fag     lønn bonus?  \n",
       "0  AI / maskinlæring   865000    Nei  \n",
       "1  AI / maskinlæring   756000    Nei  \n",
       "2  AI / maskinlæring  1500000    Nei  "
      ]
     },
     "execution_count": 9,
     "metadata": {},
     "output_type": "execute_result"
    }
   ],
   "source": [
    "import fetch_data\n",
    "df = fetch_data.fromCSV()\n",
    "df.head(3)"
   ]
  },
  {
   "cell_type": "code",
   "execution_count": 10,
   "id": "a522b26e-7656-40ac-9033-9ace051fc3cc",
   "metadata": {},
   "outputs": [
    {
     "data": {
      "text/html": [
       "<div>\n",
       "<style scoped>\n",
       "    .dataframe tbody tr th:only-of-type {\n",
       "        vertical-align: middle;\n",
       "    }\n",
       "\n",
       "    .dataframe tbody tr th {\n",
       "        vertical-align: top;\n",
       "    }\n",
       "\n",
       "    .dataframe thead th {\n",
       "        text-align: right;\n",
       "    }\n",
       "</style>\n",
       "<table border=\"1\" class=\"dataframe\">\n",
       "  <thead>\n",
       "    <tr style=\"text-align: right;\">\n",
       "      <th></th>\n",
       "      <th>sex</th>\n",
       "      <th>education</th>\n",
       "      <th>experience</th>\n",
       "      <th>workplace</th>\n",
       "      <th>work_situation</th>\n",
       "      <th>subject</th>\n",
       "      <th>salary</th>\n",
       "      <th>bonus?</th>\n",
       "    </tr>\n",
       "  </thead>\n",
       "  <tbody>\n",
       "    <tr>\n",
       "      <th>0</th>\n",
       "      <td>mann</td>\n",
       "      <td>4</td>\n",
       "      <td>7</td>\n",
       "      <td>Agder</td>\n",
       "      <td>in-house, privat sektor</td>\n",
       "      <td>AI / maskinlæring</td>\n",
       "      <td>865000</td>\n",
       "      <td>Nei</td>\n",
       "    </tr>\n",
       "    <tr>\n",
       "      <th>1</th>\n",
       "      <td>mann</td>\n",
       "      <td>5</td>\n",
       "      <td>2</td>\n",
       "      <td>Nordland</td>\n",
       "      <td>in-house, offentlig/kommunal sektor</td>\n",
       "      <td>AI / maskinlæring</td>\n",
       "      <td>756000</td>\n",
       "      <td>Nei</td>\n",
       "    </tr>\n",
       "    <tr>\n",
       "      <th>2</th>\n",
       "      <td>mann</td>\n",
       "      <td>4</td>\n",
       "      <td>30</td>\n",
       "      <td>Oslo</td>\n",
       "      <td>konsulent</td>\n",
       "      <td>AI / maskinlæring</td>\n",
       "      <td>1500000</td>\n",
       "      <td>Nei</td>\n",
       "    </tr>\n",
       "  </tbody>\n",
       "</table>\n",
       "</div>"
      ],
      "text/plain": [
       "    sex  education  experience workplace                       work_situation  \\\n",
       "0  mann          4           7     Agder              in-house, privat sektor   \n",
       "1  mann          5           2  Nordland  in-house, offentlig/kommunal sektor   \n",
       "2  mann          4          30      Oslo                            konsulent   \n",
       "\n",
       "             subject   salary bonus?  \n",
       "0  AI / maskinlæring   865000    Nei  \n",
       "1  AI / maskinlæring   756000    Nei  \n",
       "2  AI / maskinlæring  1500000    Nei  "
      ]
     },
     "execution_count": 10,
     "metadata": {},
     "output_type": "execute_result"
    }
   ],
   "source": [
    "df = df.rename(columns = {'kjønn':'sex',\n",
    "                          'utdanning':'education',\n",
    "                          'erfaring':'experience',\n",
    "                          'arbeidssted':'workplace',\n",
    "                          'arbeidssituasjon':'work_situation',\n",
    "                          'fag':'subject',\n",
    "                          'lønn':'salary'\n",
    "                         })\n",
    "df.head(3)"
   ]
  },
  {
   "cell_type": "code",
   "execution_count": 11,
   "id": "8a4e85c9-61a8-4bac-a43a-34c55e4f069c",
   "metadata": {},
   "outputs": [],
   "source": [
    "import sqlite3\n",
    "data_base_name = 'hw_03_data_base.db'\n",
    "con = sqlite3.connect(data_base_name)"
   ]
  },
  {
   "cell_type": "code",
   "execution_count": 12,
   "id": "a1edc9e4-7b70-47a8-9c1b-bfc4a00d965d",
   "metadata": {},
   "outputs": [
    {
     "name": "stdout",
     "output_type": "stream",
     "text": [
      "(0, 'mann', 4, 7, 'Agder', 'in-house, privat sektor', 'AI / maskinlæring', 865000, 'Nei')\n",
      "(1, 'mann', 5, 2, 'Nordland', 'in-house, offentlig/kommunal sektor', 'AI / maskinlæring', 756000, 'Nei')\n",
      "(2, 'mann', 4, 30, 'Oslo', 'konsulent', 'AI / maskinlæring', 1500000, 'Nei')\n",
      "(3, 'mann', 5, 25, 'Oslo', 'konsulent', 'AI / maskinlæring', 1200000, 'Nei')\n",
      "(4, 'mann', 9, 18, 'Oslo', 'in-house, privat sektor', 'AI / maskinlæring', 1200000, 'Nei')\n",
      "(5, 'mann', 2, 14, 'Oslo', 'in-house, privat sektor', 'AI / maskinlæring', 839000, 'Nei')\n",
      "(6, 'kvinne', 5, 9, 'Oslo', 'konsulent', 'AI / maskinlæring', 1200000, 'Ja')\n",
      "(7, 'mann', 6, 9, 'Oslo', 'in-house, privat sektor', 'AI / maskinlæring', 980000, 'Ja')\n",
      "(8, 'annet / ønsker ikke oppgi', 5, 5, 'Oslo', 'in-house, privat sektor', 'AI / maskinlæring', 750000, 'Nei')\n",
      "(9, 'mann', 5, 5, 'Oslo', 'konsulent', 'AI / maskinlæring', 910000, 'Nei')\n"
     ]
    }
   ],
   "source": [
    "table_name = 'data'\n",
    "df.to_sql(table_name, con=con, if_exists='replace')\n",
    "\n",
    "cur = con.cursor()\n",
    "for row in cur.execute(f\"SELECT * FROM {table_name} LIMIT 10\"):\n",
    "        print(row)"
   ]
  },
  {
   "cell_type": "code",
   "execution_count": 13,
   "id": "8763079c-5d0f-4cf2-821d-6a7d23a803d0",
   "metadata": {},
   "outputs": [],
   "source": [
    "con.close()"
   ]
  },
  {
   "cell_type": "code",
   "execution_count": null,
   "id": "c21bd2ac-ff65-492f-ade5-7a452d5405ed",
   "metadata": {},
   "outputs": [],
   "source": []
  }
 ],
 "metadata": {
  "kernelspec": {
   "display_name": "Python 3 (ipykernel)",
   "language": "python",
   "name": "python3"
  },
  "language_info": {
   "codemirror_mode": {
    "name": "ipython",
    "version": 3
   },
   "file_extension": ".py",
   "mimetype": "text/x-python",
   "name": "python",
   "nbconvert_exporter": "python",
   "pygments_lexer": "ipython3",
   "version": "3.10.11"
  }
 },
 "nbformat": 4,
 "nbformat_minor": 5
}
