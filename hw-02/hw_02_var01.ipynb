{
 "cells": [
  {
   "cell_type": "code",
   "execution_count": null,
   "id": "62529e09-a8f5-46ea-912b-7e559b8a7b56",
   "metadata": {},
   "outputs": [],
   "source": [
    "import hw_02_package as hw\n",
    "import numpy as np"
   ]
  },
  {
   "cell_type": "code",
   "execution_count": 2,
   "id": "bf8760f5-a707-4ccc-8fc9-8db41c864496",
   "metadata": {},
   "outputs": [],
   "source": [
    "# Подсчитываем количество NaN значений в каждом столбце\n",
    "def count_missing_values(df, printMessage: bool):\n",
    "    missing_values=df.isnull().sum()\n",
    "    if printMessage == True:\n",
    "        print(\"=================================================\")\n",
    "        print(\"Количество пропущенных значений в каждом столбце:\")\n",
    "        print(missing_values)\n",
    "    return missing_values\n",
    "\n",
    "#Подсчёт количества NaN значений в DataFrame\n",
    "def total_missing_values(df, printMessage: bool):\n",
    "    total_missing = df.isnull().sum().sum()\n",
    "    if printMessage == True:\n",
    "        print(\"=================================================\")\n",
    "        print(\"Количество пропущенных значений: \", total_missing)\n",
    "    return total_missing"
   ]
  },
  {
   "cell_type": "code",
   "execution_count": 3,
   "id": "4ac660d6-48f0-4a9b-a968-21c8346077f2",
   "metadata": {},
   "outputs": [
    {
     "name": "stderr",
     "output_type": "stream",
     "text": [
      "INFO:hw_02_package.fetchData:Fetching file by url on 2025-02-15 Time 19:48:37+00:00 UTC\n"
     ]
    },
    {
     "name": "stdout",
     "output_type": "stream",
     "text": [
      "Index(['Shape', 'Cut', 'Color', 'Clarity', 'Carat Weight',\n",
      "       'Length/Width Ratio', 'Depth %', 'Table %', 'Polish', 'Symmetry',\n",
      "       'Girdle', 'Culet', 'Length', 'Width', 'Height', 'Price', 'Type',\n",
      "       'Fluorescence'],\n",
      "      dtype='object')\n"
     ]
    }
   ],
   "source": [
    "df = hw.fetchData.fromCSV()\n",
    "#df = hw.fetchData.fromAPI();\n",
    "print(df.columns)"
   ]
  },
  {
   "cell_type": "code",
   "execution_count": 4,
   "id": "9a3194bb-8f0d-44e8-9fee-b98f5482029a",
   "metadata": {},
   "outputs": [
    {
     "name": "stdout",
     "output_type": "stream",
     "text": [
      "Column 0: Shape\n",
      "Column 1: Cut\n",
      "Column 2: Color\n",
      "Column 3: Clarity\n",
      "Column 4: Carat Weight\n",
      "Column 5: Length/Width Ratio\n",
      "Column 6: Depth %\n",
      "Column 7: Table %\n",
      "Column 8: Polish\n",
      "Column 9: Symmetry\n",
      "Column 10: Girdle\n",
      "Column 11: Culet\n",
      "Column 12: Length\n",
      "Column 13: Width\n",
      "Column 14: Height\n",
      "Column 15: Price\n",
      "Column 16: Type\n",
      "Column 17: Fluorescence\n"
     ]
    }
   ],
   "source": [
    "for index, column in enumerate(df.columns):\n",
    "        print(f\"Column {index}: {column}\")"
   ]
  },
  {
   "cell_type": "code",
   "execution_count": 5,
   "id": "ec940ae9-ff2c-42df-b38b-aa1bfcf823ad",
   "metadata": {},
   "outputs": [
    {
     "name": "stdout",
     "output_type": "stream",
     "text": [
      "=================================================\n",
      "Количество пропущенных значений в каждом столбце:\n",
      "Shape                    5\n",
      "Cut                   4303\n",
      "Color                    5\n",
      "Clarity                  5\n",
      "Carat Weight             5\n",
      "Length/Width Ratio       5\n",
      "Depth %                  7\n",
      "Table %                 17\n",
      "Polish                  20\n",
      "Symmetry                20\n",
      "Girdle                  22\n",
      "Culet                 4594\n",
      "Length                  20\n",
      "Width                   20\n",
      "Height                  20\n",
      "Price                    0\n",
      "Type                     0\n",
      "Fluorescence          5264\n",
      "dtype: int64\n",
      "=================================================\n",
      "Количество пропущенных значений:  14332\n"
     ]
    }
   ],
   "source": [
    "missing_counts = count_missing_values(df, True)\n",
    "total_missing_count = total_missing_values(df, True)"
   ]
  },
  {
   "cell_type": "code",
   "execution_count": 6,
   "id": "cd0937c1-96ca-47d7-ae69-d47fb5dc76ed",
   "metadata": {},
   "outputs": [
    {
     "name": "stdout",
     "output_type": "stream",
     "text": [
      "Столбцы с числами:  Index(['Carat Weight', 'Length/Width Ratio', 'Depth %', 'Table %', 'Length',\n",
      "       'Width', 'Height', 'Price'],\n",
      "      dtype='object')\n"
     ]
    }
   ],
   "source": [
    "numeric_cols = df.select_dtypes(include=[np.number]).columns  # выбираем только числовые столбцы\n",
    "print(\"Столбцы с числами: \", numeric_cols)"
   ]
  },
  {
   "cell_type": "code",
   "execution_count": 7,
   "id": "dc8458fd-6996-45b5-94c1-d758d2473c79",
   "metadata": {},
   "outputs": [
    {
     "name": "stdout",
     "output_type": "stream",
     "text": [
      "DataFrame после замены NaN (столбцах с числами) средними значениями:\n"
     ]
    },
    {
     "data": {
      "text/html": [
       "<div>\n",
       "<style scoped>\n",
       "    .dataframe tbody tr th:only-of-type {\n",
       "        vertical-align: middle;\n",
       "    }\n",
       "\n",
       "    .dataframe tbody tr th {\n",
       "        vertical-align: top;\n",
       "    }\n",
       "\n",
       "    .dataframe thead th {\n",
       "        text-align: right;\n",
       "    }\n",
       "</style>\n",
       "<table border=\"1\" class=\"dataframe\">\n",
       "  <thead>\n",
       "    <tr style=\"text-align: right;\">\n",
       "      <th></th>\n",
       "      <th>Shape</th>\n",
       "      <th>Cut</th>\n",
       "      <th>Color</th>\n",
       "      <th>Clarity</th>\n",
       "      <th>Carat Weight</th>\n",
       "      <th>Length/Width Ratio</th>\n",
       "      <th>Depth %</th>\n",
       "      <th>Table %</th>\n",
       "      <th>Polish</th>\n",
       "      <th>Symmetry</th>\n",
       "      <th>Girdle</th>\n",
       "      <th>Culet</th>\n",
       "      <th>Length</th>\n",
       "      <th>Width</th>\n",
       "      <th>Height</th>\n",
       "      <th>Price</th>\n",
       "      <th>Type</th>\n",
       "      <th>Fluorescence</th>\n",
       "    </tr>\n",
       "  </thead>\n",
       "  <tbody>\n",
       "    <tr>\n",
       "      <th>0</th>\n",
       "      <td>Cushion Modified</td>\n",
       "      <td>Ideal</td>\n",
       "      <td>F</td>\n",
       "      <td>VVS2</td>\n",
       "      <td>1.84</td>\n",
       "      <td>1.02</td>\n",
       "      <td>65.8</td>\n",
       "      <td>59.0</td>\n",
       "      <td>Excellent</td>\n",
       "      <td>Very Good</td>\n",
       "      <td>Medium to Thick</td>\n",
       "      <td>NaN</td>\n",
       "      <td>7.09</td>\n",
       "      <td>6.95</td>\n",
       "      <td>4.57</td>\n",
       "      <td>2640</td>\n",
       "      <td>GIA Lab-Grown</td>\n",
       "      <td>NaN</td>\n",
       "    </tr>\n",
       "    <tr>\n",
       "      <th>1</th>\n",
       "      <td>Pear</td>\n",
       "      <td>NaN</td>\n",
       "      <td>E</td>\n",
       "      <td>VS1</td>\n",
       "      <td>1.20</td>\n",
       "      <td>1.65</td>\n",
       "      <td>62.5</td>\n",
       "      <td>58.0</td>\n",
       "      <td>Very Good</td>\n",
       "      <td>Very Good</td>\n",
       "      <td>Medium to Thick</td>\n",
       "      <td>NaN</td>\n",
       "      <td>9.64</td>\n",
       "      <td>5.86</td>\n",
       "      <td>3.66</td>\n",
       "      <td>1070</td>\n",
       "      <td>GIA Lab-Grown</td>\n",
       "      <td>NaN</td>\n",
       "    </tr>\n",
       "    <tr>\n",
       "      <th>2</th>\n",
       "      <td>Oval</td>\n",
       "      <td>NaN</td>\n",
       "      <td>E</td>\n",
       "      <td>VS1</td>\n",
       "      <td>1.19</td>\n",
       "      <td>1.41</td>\n",
       "      <td>63.1</td>\n",
       "      <td>63.0</td>\n",
       "      <td>Very Good</td>\n",
       "      <td>Very Good</td>\n",
       "      <td>Medium to Thick</td>\n",
       "      <td>NaN</td>\n",
       "      <td>8.44</td>\n",
       "      <td>6.00</td>\n",
       "      <td>3.79</td>\n",
       "      <td>1070</td>\n",
       "      <td>GIA Lab-Grown</td>\n",
       "      <td>NaN</td>\n",
       "    </tr>\n",
       "    <tr>\n",
       "      <th>3</th>\n",
       "      <td>Heart</td>\n",
       "      <td>NaN</td>\n",
       "      <td>D</td>\n",
       "      <td>IF</td>\n",
       "      <td>1.00</td>\n",
       "      <td>1.18</td>\n",
       "      <td>61.7</td>\n",
       "      <td>58.0</td>\n",
       "      <td>Excellent</td>\n",
       "      <td>Excellent</td>\n",
       "      <td>Slightly Thick to Very Thick</td>\n",
       "      <td>NaN</td>\n",
       "      <td>5.85</td>\n",
       "      <td>6.89</td>\n",
       "      <td>4.25</td>\n",
       "      <td>7110</td>\n",
       "      <td>GIA</td>\n",
       "      <td>Faint</td>\n",
       "    </tr>\n",
       "    <tr>\n",
       "      <th>4</th>\n",
       "      <td>Radiant</td>\n",
       "      <td>NaN</td>\n",
       "      <td>H</td>\n",
       "      <td>VS1</td>\n",
       "      <td>1.01</td>\n",
       "      <td>1.35</td>\n",
       "      <td>69.4</td>\n",
       "      <td>66.0</td>\n",
       "      <td>Excellent</td>\n",
       "      <td>Very Good</td>\n",
       "      <td>Thick</td>\n",
       "      <td>NaN</td>\n",
       "      <td>6.80</td>\n",
       "      <td>5.05</td>\n",
       "      <td>3.50</td>\n",
       "      <td>3050</td>\n",
       "      <td>GIA</td>\n",
       "      <td>NaN</td>\n",
       "    </tr>\n",
       "  </tbody>\n",
       "</table>\n",
       "</div>"
      ],
      "text/plain": [
       "              Shape    Cut Color Clarity  Carat Weight  Length/Width Ratio  \\\n",
       "0  Cushion Modified  Ideal     F    VVS2          1.84                1.02   \n",
       "1              Pear    NaN     E     VS1          1.20                1.65   \n",
       "2              Oval    NaN     E     VS1          1.19                1.41   \n",
       "3             Heart    NaN     D      IF          1.00                1.18   \n",
       "4           Radiant    NaN     H     VS1          1.01                1.35   \n",
       "\n",
       "   Depth %  Table %     Polish   Symmetry                        Girdle Culet  \\\n",
       "0     65.8     59.0  Excellent  Very Good               Medium to Thick   NaN   \n",
       "1     62.5     58.0  Very Good  Very Good               Medium to Thick   NaN   \n",
       "2     63.1     63.0  Very Good  Very Good               Medium to Thick   NaN   \n",
       "3     61.7     58.0  Excellent  Excellent  Slightly Thick to Very Thick   NaN   \n",
       "4     69.4     66.0  Excellent  Very Good                         Thick   NaN   \n",
       "\n",
       "   Length  Width  Height  Price           Type Fluorescence  \n",
       "0    7.09   6.95    4.57   2640  GIA Lab-Grown          NaN  \n",
       "1    9.64   5.86    3.66   1070  GIA Lab-Grown          NaN  \n",
       "2    8.44   6.00    3.79   1070  GIA Lab-Grown          NaN  \n",
       "3    5.85   6.89    4.25   7110            GIA        Faint  \n",
       "4    6.80   5.05    3.50   3050            GIA          NaN  "
      ]
     },
     "execution_count": 7,
     "metadata": {},
     "output_type": "execute_result"
    }
   ],
   "source": [
    "df[numeric_cols] = df[numeric_cols].fillna(df[numeric_cols].mean())  # заполняем NaN средними значениями\n",
    "print(\"DataFrame после замены NaN (столбцах с числами) средними значениями:\")\n",
    "df.head(5)"
   ]
  },
  {
   "cell_type": "code",
   "execution_count": 8,
   "id": "e53f7030-dda8-447e-b3c1-8dea4a2bc0cf",
   "metadata": {},
   "outputs": [
    {
     "name": "stdout",
     "output_type": "stream",
     "text": [
      "=================================================\n",
      "Количество пропущенных значений в каждом столбце:\n",
      "Shape                    5\n",
      "Cut                   4303\n",
      "Color                    5\n",
      "Clarity                  5\n",
      "Carat Weight             0\n",
      "Length/Width Ratio       0\n",
      "Depth %                  0\n",
      "Table %                  0\n",
      "Polish                  20\n",
      "Symmetry                20\n",
      "Girdle                  22\n",
      "Culet                 4594\n",
      "Length                   0\n",
      "Width                    0\n",
      "Height                   0\n",
      "Price                    0\n",
      "Type                     0\n",
      "Fluorescence          5264\n",
      "dtype: int64\n",
      "=================================================\n",
      "Количество пропущенных значений:  14238\n",
      "Количество замененных NaN 94\n"
     ]
    }
   ],
   "source": [
    "missing_counts=count_missing_values(df, True)\n",
    "total_missing_count_after_replace_NaN = total_missing_values(df, True)\n",
    "print('Количество замененных NaN', total_missing_count - total_missing_count_after_replace_NaN)"
   ]
  },
  {
   "cell_type": "code",
   "execution_count": 10,
   "id": "fcfd86ba-4fef-43f3-b4e7-7c08edc2a213",
   "metadata": {},
   "outputs": [
    {
     "data": {
      "image/png": "[encoded data removed]",
      "text/plain": [
       "<Figure size 640x480 with 1 Axes>"
      ]
     },
     "metadata": {},
     "output_type": "display_data"
    }
   ],
   "source": [
    "hw.plottingHistogram(df, 'Price', 'Frequency', 'Price Frequency' )"
   ]
  },
  {
   "cell_type": "code",
   "execution_count": 11,
   "id": "3ba696db-98bb-41dc-9337-8939cb29d060",
   "metadata": {},
   "outputs": [
    {
     "data": {
      "image/png": "[encoded data removed]",
      "text/plain": [
       "<Figure size 640x480 with 1 Axes>"
      ]
     },
     "metadata": {},
     "output_type": "display_data"
    }
   ],
   "source": [
    "hw.plottingScatter(df)"
   ]
  },
  {
   "cell_type": "code",
   "execution_count": null,
   "id": "185e0f1f-3526-49ac-8f8c-52014422708c",
   "metadata": {},
   "outputs": [],
   "source": []
  }
 ],
 "metadata": {
  "kernelspec": {
   "display_name": "Python 3 (ipykernel)",
   "language": "python",
   "name": "python3"
  },
  "language_info": {
   "codemirror_mode": {
    "name": "ipython",
    "version": 3
   },
   "file_extension": ".py",
   "mimetype": "text/x-python",
   "name": "python",
   "nbconvert_exporter": "python",
   "pygments_lexer": "ipython3",
   "version": "3.10.11"
  }
 },
 "nbformat": 4,
 "nbformat_minor": 5
}
